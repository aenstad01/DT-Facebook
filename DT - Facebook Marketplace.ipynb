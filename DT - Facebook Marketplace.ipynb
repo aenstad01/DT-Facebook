{
 "cells": [
  {
   "cell_type": "code",
   "execution_count": 1,
   "metadata": {},
   "outputs": [],
   "source": [
    "#Import dependencies\n",
    "import pandas as pd\n",
    "import requests\n",
    "import urllib.request as urllib\n",
    "import csv"
   ]
  },
  {
   "cell_type": "code",
   "execution_count": 3,
   "metadata": {},
   "outputs": [
    {
     "data": {
      "text/plain": [
       "['holmes-honda',\n",
       " 'mel-hambelton-wichita-ks',\n",
       " 'ken-grody-orange-county',\n",
       " '171-chrysler-dodge-jeep-ram-fiat']"
      ]
     },
     "execution_count": 3,
     "metadata": {},
     "output_type": "execute_result"
    }
   ],
   "source": [
    "#Read the account folder names from a csv into a list\n",
    "acct_csv = \"Resources/account_folders.csv\"\n",
    "\n",
    "data = pd.read_csv(acct_csv)\n",
    "account_folders = data.Account_Folders.tolist()\n",
    "account_folders"
   ]
  },
  {
   "cell_type": "code",
   "execution_count": 4,
   "metadata": {},
   "outputs": [
    {
     "name": "stdout",
     "output_type": "stream",
     "text": [
      "['https://admin.dealerteamwork.com/includes/ajax/mpop-api/offers/holmes-honda/facebook-marketplace', 'https://admin.dealerteamwork.com/includes/ajax/mpop-api/offers/mel-hambelton-wichita-ks/facebook-marketplace', 'https://admin.dealerteamwork.com/includes/ajax/mpop-api/offers/ken-grody-orange-county/facebook-marketplace', 'https://admin.dealerteamwork.com/includes/ajax/mpop-api/offers/171-chrysler-dodge-jeep-ram-fiat/facebook-marketplace']\n"
     ]
    }
   ],
   "source": [
    "#Loop through the account folder names to create a the full URL list\n",
    "\n",
    "url_list = []\n",
    "url_lead = \"https://admin.dealerteamwork.com/includes/ajax/mpop-api/offers/\"\n",
    "url_end = \"/facebook-marketplace\"\n",
    "\n",
    "for account in account_folders:\n",
    "    concat_url = f'{url_lead}{account}{url_end}'\n",
    "    url_list.append(concat_url)\n",
    "    \n",
    "print(url_list)"
   ]
  },
  {
   "cell_type": "code",
   "execution_count": 5,
   "metadata": {},
   "outputs": [
    {
     "name": "stdout",
     "output_type": "stream",
     "text": [
      " These urls resulted in an https error: https://admin.dealerteamwork.com/includes/ajax/mpop-api/offers/171-chrysler-dodge-jeep-ram-fiat/facebook-marketplace\n",
      "['https://admin.dealerteamwork.com/includes/ajax/mpop-api/offers/holmes-honda/facebook-marketplace', 'https://admin.dealerteamwork.com/includes/ajax/mpop-api/offers/mel-hambelton-wichita-ks/facebook-marketplace', 'https://admin.dealerteamwork.com/includes/ajax/mpop-api/offers/ken-grody-orange-county/facebook-marketplace']\n"
     ]
    }
   ],
   "source": [
    "#Find out if there are any broken URLs\n",
    "\n",
    "for x in url_list:\n",
    "    try:\n",
    "        urllib.urlopen(x)\n",
    "    except urllib.HTTPError:\n",
    "        print(f' These urls resulted in an https error: {x}')\n",
    "        url_list.remove(x)\n",
    "        \n",
    "print(url_list)\n"
   ]
  },
  {
   "cell_type": "code",
   "execution_count": 6,
   "metadata": {},
   "outputs": [
    {
     "name": "stdout",
     "output_type": "stream",
     "text": [
      "https://admin.dealerteamwork.com/includes/ajax/mpop-api/offers/holmes-honda/facebook-marketplace: 41 vehicles\n",
      "https://admin.dealerteamwork.com/includes/ajax/mpop-api/offers/mel-hambelton-wichita-ks/facebook-marketplace: 296 vehicles\n",
      "https://admin.dealerteamwork.com/includes/ajax/mpop-api/offers/ken-grody-orange-county/facebook-marketplace: 77 vehicles\n"
     ]
    }
   ],
   "source": [
    "#Find out how many vehicles are in each CSV\n",
    "\n",
    "for url in url_list:\n",
    "    data = pd.read_csv(url)\n",
    "    row_count = len(data.axes[0])-1\n",
    "    print(f\"{url}: {row_count} vehicles\")"
   ]
  },
  {
   "cell_type": "code",
   "execution_count": null,
   "metadata": {},
   "outputs": [],
   "source": [
    "\n"
   ]
  },
  {
   "cell_type": "code",
   "execution_count": null,
   "metadata": {},
   "outputs": [],
   "source": []
  }
 ],
 "metadata": {
  "kernelspec": {
   "display_name": "Python 3",
   "language": "python",
   "name": "python3"
  },
  "language_info": {
   "codemirror_mode": {
    "name": "ipython",
    "version": 3
   },
   "file_extension": ".py",
   "mimetype": "text/x-python",
   "name": "python",
   "nbconvert_exporter": "python",
   "pygments_lexer": "ipython3",
   "version": "3.7.6"
  }
 },
 "nbformat": 4,
 "nbformat_minor": 4
}
