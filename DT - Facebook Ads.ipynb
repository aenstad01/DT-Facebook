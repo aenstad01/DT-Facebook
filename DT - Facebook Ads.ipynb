{
 "cells": [
  {
   "cell_type": "code",
   "execution_count": 1,
   "metadata": {},
   "outputs": [],
   "source": [
    "#Import dependencies\n",
    "import pandas as pd\n",
    "import requests\n",
    "import urllib.request as urllib\n",
    "import csv"
   ]
  },
  {
   "cell_type": "code",
   "execution_count": 2,
   "metadata": {},
   "outputs": [
    {
     "data": {
      "text/plain": [
       "['holmes-honda',\n",
       " 'mel-hambelton-wichita-ks',\n",
       " 'ken-grody-orange-county',\n",
       " '171-chrysler-dodge-jeep-ram-fiat']"
      ]
     },
     "execution_count": 2,
     "metadata": {},
     "output_type": "execute_result"
    }
   ],
   "source": [
    "#Read the account folder names from a csv into a list\n",
    "acct_csv = \"Resources/account_folders.csv\"\n",
    "\n",
    "data = pd.read_csv(acct_csv)\n",
    "account_folders = data.Account_Folders.tolist()\n",
    "account_folders"
   ]
  },
  {
   "cell_type": "code",
   "execution_count": 3,
   "metadata": {},
   "outputs": [
    {
     "name": "stdout",
     "output_type": "stream",
     "text": [
      "['https://admin.dealerteamwork.com/includes/ajax/mpop-api/offers/holmes-honda/facebook-ads', 'https://admin.dealerteamwork.com/includes/ajax/mpop-api/offers/mel-hambelton-wichita-ks/facebook-ads', 'https://admin.dealerteamwork.com/includes/ajax/mpop-api/offers/ken-grody-orange-county/facebook-ads', 'https://admin.dealerteamwork.com/includes/ajax/mpop-api/offers/171-chrysler-dodge-jeep-ram-fiat/facebook-ads']\n"
     ]
    }
   ],
   "source": [
    "#Loop through the account folder names to create a the full URL list\n",
    "\n",
    "url_list = []\n",
    "url_lead = \"https://admin.dealerteamwork.com/includes/ajax/mpop-api/offers/\"\n",
    "url_end = \"/facebook-ads\"\n",
    "\n",
    "for account in account_folders:\n",
    "    concat_url = f'{url_lead}{account}{url_end}'\n",
    "    url_list.append(concat_url)\n",
    "    \n",
    "print(url_list)"
   ]
  },
  {
   "cell_type": "code",
   "execution_count": 12,
   "metadata": {},
   "outputs": [
    {
     "name": "stdout",
     "output_type": "stream",
     "text": [
      "['https://admin.dealerteamwork.com/includes/ajax/mpop-api/offers/holmes-honda/facebook-ads', 'https://admin.dealerteamwork.com/includes/ajax/mpop-api/offers/mel-hambelton-wichita-ks/facebook-ads', 'https://admin.dealerteamwork.com/includes/ajax/mpop-api/offers/ken-grody-orange-county/facebook-ads', 'https://admin.dealerteamwork.com/includes/ajax/mpop-api/offers/171-chrysler-dodge-jeep-ram-fiat/facebook-ads']\n"
     ]
    }
   ],
   "source": [
    "#Find out if there are any broken URLs\n",
    "\n",
    "for x in url_list:\n",
    "    try:\n",
    "        urllib.urlopen(x)\n",
    "    except urllib.HTTPError:\n",
    "        print(f' These urls resulted in an https error: {x}')\n",
    "        url_list.remove(x)\n",
    "        \n",
    "print(url_list)"
   ]
  },
  {
   "cell_type": "code",
   "execution_count": 14,
   "metadata": {},
   "outputs": [
    {
     "name": "stdout",
     "output_type": "stream",
     "text": [
      "['https://admin.dealerteamwork.com/includes/ajax/mpop-api/offers/mel-hambelton-wichita-ks/facebook-ads', 'https://admin.dealerteamwork.com/includes/ajax/mpop-api/offers/ken-grody-orange-county/facebook-ads']\n"
     ]
    }
   ],
   "source": [
    "#Find out if any URLs have a redirect\n",
    "\n",
    "url_history = []\n",
    "\n",
    "\n",
    "for url in url_list:\n",
    "    \n",
    "    r = requests.get(url) \n",
    "    for i in r.history: \n",
    "        if i.url == \"https://admin.dealerteamwork.com/\":\n",
    "            print(i.url)\n",
    "            url_list.remove(url)\n",
    "            \n",
    "#Now, the URL list excludes and urls with a redirect (this indicates that the Facebook Ads box is not checked)\n",
    "print(url_list)"
   ]
  },
  {
   "cell_type": "code",
   "execution_count": null,
   "metadata": {},
   "outputs": [],
   "source": []
  }
 ],
 "metadata": {
  "kernelspec": {
   "display_name": "Python 3",
   "language": "python",
   "name": "python3"
  },
  "language_info": {
   "codemirror_mode": {
    "name": "ipython",
    "version": 3
   },
   "file_extension": ".py",
   "mimetype": "text/x-python",
   "name": "python",
   "nbconvert_exporter": "python",
   "pygments_lexer": "ipython3",
   "version": "3.7.6"
  }
 },
 "nbformat": 4,
 "nbformat_minor": 4
}
